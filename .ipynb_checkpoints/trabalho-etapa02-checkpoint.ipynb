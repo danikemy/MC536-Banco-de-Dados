{
 "cells": [
  {
   "cell_type": "code",
   "execution_count": 1,
   "metadata": {},
   "outputs": [],
   "source": [
    "%defaultDatasource jdbc:h2:mem:db"
   ]
  },
  {
   "cell_type": "markdown",
   "metadata": {},
   "source": [
    "Modelo Conceitual \n",
    "\n",
    "---"
   ]
  },
  {
   "cell_type": "markdown",
   "metadata": {},
   "source": [
    "<img src=\"UML.jpg\">"
   ]
  },
  {
   "cell_type": "markdown",
   "metadata": {},
   "source": [
    "Modelo Logico\n",
    "\n",
    "---"
   ]
  },
  {
   "cell_type": "markdown",
   "metadata": {},
   "source": [
    "Paciente(_idPaciente_, sexo, idade, diagnostico)\n",
    "\n",
    "Exame(_idPaciente_, _nomeExame_, resultado)\n",
    "\n",
    "\t⤷ idPaciente é CHE para Paciente\n",
    "    \n",
    "Sintoma(_idPaciente_, _nomeSintoma_, intensidade)\n",
    "\n",
    "\t⤷ idPaciente é CHE para Paciente\n"
   ]
  },
  {
   "cell_type": "code",
   "execution_count": 2,
   "metadata": {},
   "outputs": [],
   "source": [
    "-- Criando as tabelas colocadas no modelo\n",
    "\n",
    "CREATE TABLE Paciente(\n",
    "    idPaciente INT IDENTITY(1 , 1) NOT NULL,\n",
    "    sexo INT NOT NULL, \n",
    "    idade INT NOT NULL,\n",
    "    diagnostico INT NOT NULL,\n",
    "    PRIMARY KEY(idPaciente)\n",
    ");\n",
    "\n",
    "CREATE TABLE Exame(\n",
    "    idPaciente INT NOT NULL,\n",
    "    nomeExame VARCHAR(100) NOT NULL, \n",
    "    resultado FLOAT,\n",
    "    PRIMARY KEY(idPaciente, nomeExame),\n",
    "    FOREIGN KEY(idPaciente)\n",
    "    REFERENCES Paciente(idPaciente)\n",
    "      ON DELETE NO ACTION\n",
    "      ON UPDATE NO ACTION,\n",
    ");\n",
    "\n",
    "CREATE TABLE Sintoma(\n",
    "    idPaciente INT NOT NULL,\n",
    "    nomeSintoma VARCHAR(100) NOT NULL, \n",
    "    intensidade INT,\n",
    "    PRIMARY KEY(idPaciente, nomeSintoma),\n",
    "    FOREIGN KEY(idPaciente)\n",
    "    REFERENCES Paciente(idPaciente)\n",
    "      ON DELETE NO ACTION\n",
    "      ON UPDATE NO ACTION,\n",
    ");\n",
    "    \n",
    " "
   ]
  },
  {
   "cell_type": "code",
   "execution_count": 3,
   "metadata": {},
   "outputs": [],
   "source": [
    "-- Inserindo os dados nas tabelas\n",
    "\n",
    "--Paciente 1 e exames \n",
    "INSERT INTO Paciente (sexo, idade, diagnostico) VALUES (1, 28, 0);\n",
    "INSERT INTO Sintoma VALUES (1, 'chest pain', 2);\n",
    "INSERT INTO Exame VALUES (1, 'bood pressure', 130);\n",
    "INSERT INTO Exame VALUES (1, 'serum cholesterol', 132);\n",
    "INSERT INTO Exame VALUES (1, 'rasting blood_sugar', 0);\n",
    "INSERT INTO Exame VALUES (1, 'eletrocardiography', 2);\n",
    "INSERT INTO Exame VALUES (1, 'maximum heart hate', 185);\n",
    "INSERT INTO Exame VALUES (1, 'exercice induce angina', 0);\n",
    "INSERT INTO Exame VALUES (1, 'ST depression induced by exercice', 0);\n",
    "\n",
    "--Paciente 2 e exames \n",
    "INSERT INTO Paciente (sexo, idade, diagnostico) VALUES (1, 39, 0);\n",
    "INSERT INTO Sintoma VALUES (2, 'chest pain', 3);\n",
    "INSERT INTO Exame VALUES (2, 'bood pressure', 120);\n",
    "INSERT INTO Exame VALUES (2, 'serum cholesterol', 339);\n",
    "INSERT INTO Exame VALUES (2, 'rasting blood_sugar', 0);\n",
    "INSERT INTO Exame VALUES (2, 'eletrocardiography', 0);\n",
    "INSERT INTO Exame VALUES (2, 'maximum heart hate', 170);\n",
    "INSERT INTO Exame VALUES (2, 'exercice induce angina', 0);\n",
    "INSERT INTO Exame VALUES (2, 'ST depression induced by exercice', 0);\n",
    "\n",
    "\n",
    "--Paciente 3 e exames \n",
    "INSERT INTO Paciente (sexo, idade, diagnostico) VALUES (1, 44, 0);\n",
    "INSERT INTO Sintoma VALUES (3, 'chest pain', 4);\n",
    "INSERT INTO Exame VALUES (3, 'bood pressure', 150);\n",
    "INSERT INTO Exame VALUES (3, 'serum cholesterol', 412);\n",
    "INSERT INTO Exame VALUES (3, 'rasting blood_sugar', 0);\n",
    "INSERT INTO Exame VALUES (3, 'eletrocardiography', 0);\n",
    "INSERT INTO Exame VALUES (3, 'maximum heart hate', 170);\n",
    "INSERT INTO Exame VALUES (3, 'exercice induce angina', 0);\n",
    "INSERT INTO Exame VALUES (3, 'ST depression induced by exercice', 0);\n",
    "\n",
    "--Paciente 4 e exames \n",
    "INSERT INTO Paciente (sexo, idade, diagnostico) VALUES (1, 29, 0);\n",
    "INSERT INTO Sintoma VALUES (4, 'chest pain', 2);\n",
    "INSERT INTO Exame VALUES (4, 'bood pressure', 140);\n",
    "INSERT INTO Exame VALUES (4, 'rasting blood_sugar', 0);\n",
    "INSERT INTO Exame VALUES (4, 'eletrocardiography', 0);\n",
    "INSERT INTO Exame VALUES (4, 'maximum heart hate', 170);\n",
    "INSERT INTO Exame VALUES (4, 'exercice induce angina', 0);\n",
    "INSERT INTO Exame VALUES (4, 'ST depression induced by exercice', 0);\n",
    "\n",
    "--Paciente 5 e exames \n",
    "INSERT INTO Paciente (sexo, idade, diagnostico) VALUES (0, 50, 0);\n",
    "INSERT INTO Sintoma VALUES (5, 'chest pain', 4);\n",
    "INSERT INTO Exame VALUES (5, 'bood pressure', 120);\n",
    "INSERT INTO Exame VALUES (5, 'serum cholesterol', 328);\n",
    "INSERT INTO Exame VALUES (5, 'rasting blood_sugar', 0);\n",
    "INSERT INTO Exame VALUES (5, 'eletrocardiography', 0);\n",
    "INSERT INTO Exame VALUES (5, 'maximum heart hate', 110);\n",
    "INSERT INTO Exame VALUES (5, 'exercice induce angina', 1);\n",
    "INSERT INTO Exame VALUES (5, 'ST depression induced by exercice', 1);\n",
    "INSERT INTO Exame VALUES (5, 'slope of ST segment on exercice', 2);\n",
    "\n",
    "--Paciente 6 e exames \n",
    "INSERT INTO Paciente (sexo, idade, diagnostico) VALUES (0, 51, 0);\n",
    "INSERT INTO Sintoma VALUES (6, 'chest pain', 2);\n",
    "INSERT INTO Exame VALUES (6, 'bood pressure', 160);\n",
    "INSERT INTO Exame VALUES (6, 'serum cholesterol', 194);\n",
    "INSERT INTO Exame VALUES (6, 'rasting blood_sugar', 0);\n",
    "INSERT INTO Exame VALUES (6, 'eletrocardiography', 0);\n",
    "INSERT INTO Exame VALUES (6, 'maximum heart hate', 170);\n",
    "INSERT INTO Exame VALUES (6, 'exercice induce angina', 0);\n",
    "INSERT INTO Exame VALUES (6, 'ST depression induced by exercice', 0);\n",
    "\n",
    "--Paciente 7 e exames \n",
    "INSERT INTO Paciente (sexo, idade, diagnostico) VALUES (0, 53, 0);\n",
    "INSERT INTO Sintoma VALUES (7, 'chest pain', 3);\n",
    "INSERT INTO Exame VALUES (7, 'bood pressure', 120);\n",
    "INSERT INTO Exame VALUES (7, 'serum cholesterol', 274);\n",
    "INSERT INTO Exame VALUES (7, 'rasting blood_sugar', 0);\n",
    "INSERT INTO Exame VALUES (7, 'eletrocardiography', 0);\n",
    "INSERT INTO Exame VALUES (7, 'maximum heart hate', 130);\n",
    "INSERT INTO Exame VALUES (7, 'exercice induce angina', 0);\n",
    "INSERT INTO Exame VALUES (7, 'ST depression induced by exercice', 0);\n",
    "\n",
    "--Paciente 8 e exames \n",
    "INSERT INTO Paciente (sexo, idade, diagnostico) VALUES (1, 54, 0);\n",
    "INSERT INTO Sintoma VALUES (8, 'chest pain', 3);\n",
    "INSERT INTO Exame VALUES (8, 'bood pressure', 150);\n",
    "INSERT INTO Exame VALUES (8, 'rasting blood_sugar', 0);\n",
    "INSERT INTO Exame VALUES (8, 'eletrocardiography', 0);\n",
    "INSERT INTO Exame VALUES (8, 'maximum heart hate', 122);\n",
    "INSERT INTO Exame VALUES (8, 'exercice induce angina', 0);\n",
    "INSERT INTO Exame VALUES (8, 'ST depression induced by exercice', 0);\n",
    "\n",
    "--Paciente 9 e exames \n",
    "INSERT INTO Paciente (sexo, idade, diagnostico) VALUES (1, 55, 0);\n",
    "INSERT INTO Sintoma VALUES (9, 'chest pain', 2);\n",
    "INSERT INTO Exame VALUES (9, 'bood pressure', 120);\n",
    "INSERT INTO Exame VALUES (9, 'serum cholesterol', 256);\n",
    "INSERT INTO Exame VALUES (9, 'rasting blood_sugar', 1);\n",
    "INSERT INTO Exame VALUES (9, 'eletrocardiography', 0);\n",
    "INSERT INTO Exame VALUES (9, 'maximum heart hate', 137);\n",
    "INSERT INTO Exame VALUES (9, 'exercice induce angina', 0);\n",
    "INSERT INTO Exame VALUES (9, 'ST depression induced by exercice', 0);\n",
    "INSERT INTO Exame VALUES (9, 'thal', 7);\n",
    "\n",
    "--Paciente 10 e exames \n",
    "INSERT INTO Paciente (sexo, idade, diagnostico) VALUES (1, 59, 0);\n",
    "INSERT INTO Sintoma VALUES (10, 'chest pain', 2);\n",
    "INSERT INTO Exame VALUES (10, 'bood pressure', 140);\n",
    "INSERT INTO Exame VALUES (10, 'serum cholesterol', 287);\n",
    "INSERT INTO Exame VALUES (10, 'rasting blood_sugar', 0);\n",
    "INSERT INTO Exame VALUES (10, 'eletrocardiography', 0);\n",
    "INSERT INTO Exame VALUES (10, 'maximum heart hate', 150);\n",
    "INSERT INTO Exame VALUES (10, 'exercice induce angina', 0);\n",
    "INSERT INTO Exame VALUES (10, 'ST depression induced by exercice', 0);\n",
    "\n",
    "--Paciente 11 e exames \n",
    "INSERT INTO Paciente (sexo, idade, diagnostico) VALUES (1, 41, 1);\n",
    "INSERT INTO Sintoma VALUES (11, 'chest pain', 4);\n",
    "INSERT INTO Exame VALUES (11, 'bood pressure', 120);\n",
    "INSERT INTO Exame VALUES (11, 'serum cholesterol', 237);\n",
    "INSERT INTO Exame VALUES (11, 'rasting blood_sugar', NULL);\n",
    "INSERT INTO Exame VALUES (11, 'eletrocardiography', 0);\n",
    "INSERT INTO Exame VALUES (11, 'maximum heart hate', 138);\n",
    "INSERT INTO Exame VALUES (11, 'exercice induce angina', 1);\n",
    "INSERT INTO Exame VALUES (11, 'ST depression induced by exercice', 1);\n",
    "INSERT INTO Exame VALUES (11, 'slope of ST segment on exercice', 2);\n",
    "\n",
    "--Paciente 12 e exames \n",
    "INSERT INTO Paciente (sexo, idade, diagnostico) VALUES (0, 51, 1);\n",
    "INSERT INTO Sintoma VALUES (12, 'chest pain', 4);\n",
    "INSERT INTO Exame VALUES (12, 'bood pressure', 160);\n",
    "INSERT INTO Exame VALUES (12, 'serum cholesterol', 303);\n",
    "INSERT INTO Exame VALUES (12, 'rasting blood_sugar', 0);\n",
    "INSERT INTO Exame VALUES (12, 'eletrocardiography', 0);\n",
    "INSERT INTO Exame VALUES (12, 'maximum heart hate', 150);\n",
    "INSERT INTO Exame VALUES (12, 'exercice induce angina', 1);\n",
    "INSERT INTO Exame VALUES (12, 'ST depression induced by exercice', 1);\n",
    "INSERT INTO Exame VALUES (12, 'slope of ST segment on exercice', 2);\n",
    "\n",
    "--Paciente 13 e exames \n",
    "INSERT INTO Paciente (sexo, idade, diagnostico) VALUES (1, 32, 1);\n",
    "INSERT INTO Sintoma VALUES (13, 'chest pain', 4);\n",
    "INSERT INTO Exame VALUES (13, 'bood pressure', 118);\n",
    "INSERT INTO Exame VALUES (13, 'serum cholesterol', 529);\n",
    "INSERT INTO Exame VALUES (13, 'rasting blood_sugar', 0);\n",
    "INSERT INTO Exame VALUES (13, 'eletrocardiography', 0);\n",
    "INSERT INTO Exame VALUES (13, 'maximum heart hate', 130);\n",
    "INSERT INTO Exame VALUES (13, 'exercice induce angina', 0);\n",
    "INSERT INTO Exame VALUES (13, 'ST depression induced by exercice', 0);\n",
    "\n",
    "--Paciente 14 e exames \n",
    "INSERT INTO Paciente (sexo, idade, diagnostico) VALUES (1, 52, 1);\n",
    "INSERT INTO Sintoma VALUES (14, 'chest pain', 4);\n",
    "INSERT INTO Exame VALUES (14, 'bood pressure', 170);\n",
    "INSERT INTO Exame VALUES (14, 'rasting blood_sugar', 0);\n",
    "INSERT INTO Exame VALUES (14, 'eletrocardiography', 0);\n",
    "INSERT INTO Exame VALUES (14, 'maximum heart hate', 126);\n",
    "INSERT INTO Exame VALUES (14, 'exercice induce angina', 1);\n",
    "INSERT INTO Exame VALUES (14, 'ST depression induced by exercice', 1.5);\n",
    "INSERT INTO Exame VALUES (14, 'slope of ST segment on exercice', 2);\n",
    "\n",
    "--Paciente 15 e exames \n",
    "INSERT INTO Paciente (sexo, idade, diagnostico) VALUES (1, 57, 1);\n",
    "INSERT INTO Sintoma VALUES (15, 'chest pain', 4);\n",
    "INSERT INTO Exame VALUES (15, 'bood pressure', 150);\n",
    "INSERT INTO Exame VALUES (15, 'serum cholesterol', 255);\n",
    "INSERT INTO Exame VALUES (15, 'rasting blood_sugar', 0);\n",
    "INSERT INTO Exame VALUES (15, 'eletrocardiography', 0);\n",
    "INSERT INTO Exame VALUES (15, 'maximum heart hate', 92);\n",
    "INSERT INTO Exame VALUES (15, 'exercice induce angina', 1);\n",
    "INSERT INTO Exame VALUES (15, 'ST depression induced by exercice', 3);\n",
    "INSERT INTO Exame VALUES (15, 'slope of ST segment on exercice', 2);\n",
    "\n",
    "--Paciente 16 e exames \n",
    "INSERT INTO Paciente (sexo, idade, diagnostico) VALUES (1, 58, 1);\n",
    "INSERT INTO Sintoma VALUES (16, 'chest pain', 4);\n",
    "INSERT INTO Exame VALUES (16, 'bood pressure', 130);\n",
    "INSERT INTO Exame VALUES (16, 'serum cholesterol', 263);\n",
    "INSERT INTO Exame VALUES (16, 'rasting blood_sugar', 0);\n",
    "INSERT INTO Exame VALUES (16, 'eletrocardiography', 0);\n",
    "INSERT INTO Exame VALUES (16, 'maximum heart hate', 140);\n",
    "INSERT INTO Exame VALUES (16, 'exercice induce angina', 1);\n",
    "INSERT INTO Exame VALUES (16, 'ST depression induced by exercice', 2);\n",
    "INSERT INTO Exame VALUES (16, 'slope of ST segment on exercice', 2);\n",
    "\n",
    "--Paciente 17 e exames \n",
    "INSERT INTO Paciente (sexo, idade, diagnostico) VALUES (1, 52, 1);\n",
    "INSERT INTO Sintoma VALUES (17, 'chest pain', 4);\n",
    "INSERT INTO Exame VALUES (17, 'bood pressure', 130);\n",
    "INSERT INTO Exame VALUES (17, 'serum cholesterol', 298);\n",
    "INSERT INTO Exame VALUES (17, 'rasting blood_sugar', 0);\n",
    "INSERT INTO Exame VALUES (17, 'eletrocardiography', 0);\n",
    "INSERT INTO Exame VALUES (17, 'maximum heart hate', 110);\n",
    "INSERT INTO Exame VALUES (17, 'exercice induce angina', 1);\n",
    "INSERT INTO Exame VALUES (17, 'ST depression induced by exercice', 1);\n",
    "INSERT INTO Exame VALUES (17, 'slope of ST segment on exercice', 2);\n",
    "\n",
    "--Paciente 18 e exames \n",
    "INSERT INTO Paciente (sexo, idade, diagnostico) VALUES (1, 55, 1);\n",
    "INSERT INTO Sintoma VALUES (18, 'chest pain', 2);\n",
    "INSERT INTO Exame VALUES (18, 'bood pressure', 160);\n",
    "INSERT INTO Exame VALUES (18, 'serum cholesterol', 292);\n",
    "INSERT INTO Exame VALUES (18, 'rasting blood_sugar', 1);\n",
    "INSERT INTO Exame VALUES (18, 'eletrocardiography', 0);\n",
    "INSERT INTO Exame VALUES (18, 'maximum heart hate', 143);\n",
    "INSERT INTO Exame VALUES (18, 'exercice induce angina', 1);\n",
    "INSERT INTO Exame VALUES (18, 'ST depression induced by exercice', 2);\n",
    "INSERT INTO Exame VALUES (18, 'slope of ST segment on exercice', 2);\n",
    "\n",
    "--Paciente 19 e exames \n",
    "INSERT INTO Paciente (sexo, idade, diagnostico) VALUES (0, 49, 1);\n",
    "INSERT INTO Sintoma VALUES (19, 'chest pain', 4);\n",
    "INSERT INTO Exame VALUES (19, 'bood pressure', 150);\n",
    "INSERT INTO Exame VALUES (19, 'serum cholesterol', 222);\n",
    "INSERT INTO Exame VALUES (19, 'rasting blood_sugar', 0);\n",
    "INSERT INTO Exame VALUES (19, 'eletrocardiography', 0);\n",
    "INSERT INTO Exame VALUES (19, 'maximum heart hate', 122);\n",
    "INSERT INTO Exame VALUES (19, 'exercice induce angina', 0);\n",
    "INSERT INTO Exame VALUES (19, 'ST depression induced by exercice', 2);\n",
    "INSERT INTO Exame VALUES (19, 'slope of ST segment on exercice', 2);\n",
    "\n",
    "--Paciente 20 e exames \n",
    "INSERT INTO Paciente (sexo, idade, diagnostico) VALUES (0, 54, 1);\n",
    "INSERT INTO Sintoma VALUES (20, 'chest pain', 3);\n",
    "INSERT INTO Exame VALUES (20, 'bood pressure', 130);\n",
    "INSERT INTO Exame VALUES (20, 'serum cholesterol', 294);\n",
    "INSERT INTO Exame VALUES (20, 'rasting blood_sugar', 0);\n",
    "INSERT INTO Exame VALUES (20, 'eletrocardiography', 1);\n",
    "INSERT INTO Exame VALUES (20, 'maximum heart hate', 100);\n",
    "INSERT INTO Exame VALUES (20, 'exercice induce angina', 1);\n",
    "INSERT INTO Exame VALUES (20, 'ST depression induced by exercice', 0);\n",
    "INSERT INTO Exame VALUES (20, 'slope of ST segment on exercice', 2);\n",
    "\n",
    "--Paciente 21 e exames \n",
    "INSERT INTO Paciente (sexo, idade, diagnostico) VALUES (0, 58, 1);\n",
    "INSERT INTO Sintoma VALUES (21, 'chest pain', 2);\n",
    "INSERT INTO Exame VALUES (21, 'bood pressure', 180);\n",
    "INSERT INTO Exame VALUES (21, 'serum cholesterol', 393);\n",
    "INSERT INTO Exame VALUES (21, 'rasting blood_sugar', 0);\n",
    "INSERT INTO Exame VALUES (21, 'eletrocardiography', 0);\n",
    "INSERT INTO Exame VALUES (21, 'maximum heart hate', 110);\n",
    "INSERT INTO Exame VALUES (21, 'exercice induce angina', 1);\n",
    "INSERT INTO Exame VALUES (21, 'ST depression induced by exercice', 1);\n",
    "INSERT INTO Exame VALUES (21, 'slope of ST segment on exercice', 2);\n",
    "INSERT INTO Exame VALUES (21, 'thal', 7);\n",
    "\n",
    "--Paciente 22 e exames \n",
    "INSERT INTO Paciente (sexo, idade, diagnostico) VALUES (1, 45, 0);\n",
    "INSERT INTO Sintoma VALUES (22, 'chest pain', 4);\n",
    "INSERT INTO Exame VALUES (22, 'bood pressure', 120);\n",
    "INSERT INTO Exame VALUES (22, 'serum cholesterol', 225);\n",
    "INSERT INTO Exame VALUES (22, 'rasting blood_sugar', 0);\n",
    "INSERT INTO Exame VALUES (22, 'eletrocardiography', 0);\n",
    "INSERT INTO Exame VALUES (22, 'maximum heart hate', 140);\n",
    "INSERT INTO Exame VALUES (22, 'exercice induce angina', 0);\n",
    "INSERT INTO Exame VALUES (22, 'ST depression induced by exercice', 0);\n",
    "\n",
    "--Paciente 23 e exames \n",
    "INSERT INTO Paciente (sexo, idade, diagnostico) VALUES (0, 35, 0);\n",
    "INSERT INTO Sintoma VALUES (23, 'chest pain', 1);\n",
    "INSERT INTO Exame VALUES (23, 'bood pressure', 120);\n",
    "INSERT INTO Exame VALUES (23, 'serum cholesterol', 160);\n",
    "INSERT INTO Exame VALUES (23, 'rasting blood_sugar', 0);\n",
    "INSERT INTO Exame VALUES (23, 'eletrocardiography', 1);\n",
    "INSERT INTO Exame VALUES (23, 'maximum heart hate', 185);\n",
    "INSERT INTO Exame VALUES (23, 'exercice induce angina', 0);\n",
    "INSERT INTO Exame VALUES (23, 'ST depression induced by exercice', 0);\n",
    "\n",
    "--Paciente 24 e exames \n",
    "INSERT INTO Paciente (sexo, idade, diagnostico) VALUES (1, 39, 0);\n",
    "INSERT INTO Sintoma VALUES (24, 'chest pain', 2);\n",
    "INSERT INTO Exame VALUES (24, 'bood pressure', 120);\n",
    "INSERT INTO Exame VALUES (24, 'serum cholesterol', 200);\n",
    "INSERT INTO Exame VALUES (24, 'rasting blood_sugar', 0);\n",
    "INSERT INTO Exame VALUES (24, 'eletrocardiography', 0);\n",
    "INSERT INTO Exame VALUES (24, 'maximum heart hate', 160);\n",
    "INSERT INTO Exame VALUES (24, 'exercice induce angina', 1);\n",
    "INSERT INTO Exame VALUES (24, 'ST depression induced by exercice', 1);\n",
    "INSERT INTO Exame VALUES (24, 'slope of ST segment on exercice', 2);\n",
    "\n",
    "--Paciente 25 e exames\n",
    "INSERT INTO Paciente (sexo, idade, diagnostico) VALUES (0, 41, 0);\n",
    "INSERT INTO Sintoma VALUES (25, 'chest pain', 2);\n",
    "INSERT INTO Exame VALUES (25, 'bood pressure', 110);\n",
    "INSERT INTO Exame VALUES (25, 'serum cholesterol', 250);\n",
    "INSERT INTO Exame VALUES (25, 'rasting blood_sugar', 0);\n",
    "INSERT INTO Exame VALUES (25, 'eletrocardiography', 1);\n",
    "INSERT INTO Exame VALUES (25, 'maximum heart hate', 142);\n",
    "INSERT INTO Exame VALUES (25, 'exercice induce angina', 0);\n",
    "INSERT INTO Exame VALUES (25, 'ST depression induced by exercice', 0);\n",
    "\n",
    "--Paciente 26 e exames \n",
    "INSERT INTO Paciente (sexo, idade, diagnostico) VALUES (0, 47, 0);\n",
    "INSERT INTO Sintoma VALUES (26, 'chest pain', 3);\n",
    "INSERT INTO Exame VALUES (26, 'bood pressure', 130);\n",
    "INSERT INTO Exame VALUES (26, 'serum cholesterol', NULL);\n",
    "INSERT INTO Exame VALUES (26, 'rasting blood_sugar', 0);\n",
    "INSERT INTO Exame VALUES (26, 'eletrocardiography', 0);\n",
    "INSERT INTO Exame VALUES (26, 'maximum heart hate', 145);\n",
    "INSERT INTO Exame VALUES (26, 'exercice induce angina', 0);\n",
    "INSERT INTO Exame VALUES (26, 'ST depression induced by exercice', 2);\n",
    "INSERT INTO Exame VALUES (26, 'slope of ST segment on exercice', 2);\n",
    "\n",
    "--Paciente 27 e exames \n",
    "INSERT INTO Paciente (sexo, idade, diagnostico) VALUES (1, 46, 0);\n",
    "INSERT INTO Sintoma VALUES (27, 'chest pain', 4);\n",
    "INSERT INTO Exame VALUES (27, 'bood pressure', 110);\n",
    "INSERT INTO Exame VALUES (27, 'serum cholesterol', 240);\n",
    "INSERT INTO Exame VALUES (27, 'rasting blood_sugar', 0);\n",
    "INSERT INTO Exame VALUES (27, 'eletrocardiography', 1);\n",
    "INSERT INTO Exame VALUES (27, 'maximum heart hate', 140);\n",
    "INSERT INTO Exame VALUES (27, 'exercice induce angina', 0);\n",
    "INSERT INTO Exame VALUES (27, 'ST depression induced by exercice', 0);\n",
    "INSERT INTO Exame VALUES (27, 'thal', 3);\n",
    "\n",
    "--Paciente 28 e exames \n",
    "INSERT INTO Paciente (sexo, idade, diagnostico) VALUES (0, 56, 0);\n",
    "INSERT INTO Sintoma VALUES (28, 'chest pain', 3);\n",
    "INSERT INTO Exame VALUES (28, 'bood pressure', 130);\n",
    "INSERT INTO Exame VALUES (28, 'serum cholesterol', 219);\n",
    "INSERT INTO Exame VALUES (28, 'eletrocardiography', 1);\n",
    "INSERT INTO Exame VALUES (28, 'maximum heart hate', 164);\n",
    "INSERT INTO Exame VALUES (28, 'exercice induce angina', 0);\n",
    "INSERT INTO Exame VALUES (28, 'ST depression induced by exercice', 0);\n",
    "INSERT INTO Exame VALUES (28, 'thal', 7);\n",
    "\n",
    "--Paciente 29 e exames \n",
    "INSERT INTO Paciente (sexo, idade, diagnostico) VALUES (1, 47, 0);\n",
    "INSERT INTO Sintoma VALUES (29, 'chest pain', 4);\n",
    "INSERT INTO Exame VALUES (29, 'bood pressure', 140);\n",
    "INSERT INTO Exame VALUES (29, 'serum cholesterol', 176);\n",
    "INSERT INTO Exame VALUES (29, 'rasting blood_sugar', 1);\n",
    "INSERT INTO Exame VALUES (29, 'eletrocardiography', 0);\n",
    "INSERT INTO Exame VALUES (29, 'maximum heart hate', 125);\n",
    "INSERT INTO Exame VALUES (29, 'exercice induce angina', 1);\n",
    "INSERT INTO Exame VALUES (29, 'ST depression induced by exercice', 0);\n",
    "\n",
    "--Paciente 30 e exames \n",
    "INSERT INTO Paciente (sexo, idade, diagnostico) VALUES (1, 37, 0);\n",
    "INSERT INTO Sintoma VALUES (30, 'chest pain', 2);\n",
    "INSERT INTO Exame VALUES (30, 'bood pressure', 130);\n",
    "INSERT INTO Exame VALUES (30, 'serum cholesterol', 283);\n",
    "INSERT INTO Exame VALUES (30, 'rasting blood_sugar', 0);\n",
    "INSERT INTO Exame VALUES (30, 'eletrocardiography', 1);\n",
    "INSERT INTO Exame VALUES (30, 'maximum heart hate', 98);\n",
    "INSERT INTO Exame VALUES (30, 'exercice induce angina', 0);\n",
    "INSERT INTO Exame VALUES (30, 'ST depression induced by exercice', 0);\n",
    "\n"
   ]
  },
  {
   "cell_type": "code",
   "execution_count": 5,
   "metadata": {},
   "outputs": [
    {
     "data": {
      "application/vnd.jupyter.widget-view+json": {
       "model_id": "bbffaf75-f37a-46fa-842b-dc4ed1067968",
       "version_major": 2,
       "version_minor": 0
      },
      "method": "display_data"
     },
     "metadata": {},
     "output_type": "display_data"
    },
    {
     "data": {
      "application/vnd.jupyter.widget-view+json": {
       "model_id": "503a30a2-84ea-4741-ab8b-7d69824e3a79",
       "version_major": 2,
       "version_minor": 0
      },
      "method": "display_data"
     },
     "metadata": {},
     "output_type": "display_data"
    },
    {
     "data": {
      "application/vnd.jupyter.widget-view+json": {
       "model_id": "479ea73d-d80e-4ac9-a775-6f38744be222",
       "version_major": 2,
       "version_minor": 0
      },
      "method": "display_data"
     },
     "metadata": {},
     "output_type": "display_data"
    }
   ],
   "source": [
    "SELECT * FROM Paciente;\n",
    "SELECT * FROM Exame;\n",
    "SELECT * FROM Sintoma;"
   ]
  },
  {
   "cell_type": "markdown",
   "metadata": {},
   "source": [
    "Análise dos dados \n",
    "===\n",
    "\n",
    "---"
   ]
  },
  {
   "cell_type": "markdown",
   "metadata": {},
   "source": [
    "Analisando a relação da quantidade de pessoas problemas cardiacos de acordo com sua idade\n",
    "---"
   ]
  },
  {
   "cell_type": "code",
   "execution_count": 7,
   "metadata": {},
   "outputs": [
    {
     "data": {
      "application/vnd.jupyter.widget-view+json": {
       "model_id": "d785b071-665f-4e60-bb9f-62a48d5d0af7",
       "version_major": 2,
       "version_minor": 0
      },
      "method": "display_data"
     },
     "metadata": {},
     "output_type": "display_data"
    }
   ],
   "source": [
    "SELECT idade, diagnostico, COUNT(*) \n",
    "FROM Paciente \n",
    "GROUP BY idade, diagnostico;"
   ]
  },
  {
   "cell_type": "markdown",
   "metadata": {},
   "source": [
    "Analisando o sexo em que a doença aparece com maior frequencia\n",
    "---"
   ]
  },
  {
   "cell_type": "code",
   "execution_count": 10,
   "metadata": {},
   "outputs": [
    {
     "data": {
      "application/vnd.jupyter.widget-view+json": {
       "model_id": "5de3d847-9aec-4b4f-98cb-0f4a7b0d3a27",
       "version_major": 2,
       "version_minor": 0
      },
      "method": "display_data"
     },
     "metadata": {},
     "output_type": "display_data"
    }
   ],
   "source": [
    "SELECT sexo, diagnostico, COUNT(*) total\n",
    "FROM Paciente \n",
    "WHERE diagnostico = 1\n",
    "GROUP BY sexo, diagnostico;"
   ]
  },
  {
   "cell_type": "markdown",
   "metadata": {},
   "source": [
    "Quantidade de pessoas diagnosticadas que sentiram fortes dores no peito (intensidade = 4)\n",
    "---"
   ]
  },
  {
   "cell_type": "code",
   "execution_count": 13,
   "metadata": {},
   "outputs": [
    {
     "data": {
      "text/plain": [
       "8"
      ]
     },
     "execution_count": 13,
     "metadata": {},
     "output_type": "execute_result"
    }
   ],
   "source": [
    "SELECT COUNT(*)\n",
    "FROM Sintoma S, Paciente P\n",
    "WHERE S.idPaciente = P.idPaciente AND P.diagnostico = 1 AND S.intensidade = 4;\n"
   ]
  },
  {
   "cell_type": "markdown",
   "metadata": {},
   "source": [
    "Idade das Pessoas que foram diagnosticadas e sentiram dor no peito após exercicios\n",
    "---"
   ]
  },
  {
   "cell_type": "code",
   "execution_count": 14,
   "metadata": {},
   "outputs": [
    {
     "data": {
      "application/vnd.jupyter.widget-view+json": {
       "model_id": "5fee65fa-86e3-4372-8789-777f2b508d30",
       "version_major": 2,
       "version_minor": 0
      },
      "method": "display_data"
     },
     "metadata": {},
     "output_type": "display_data"
    }
   ],
   "source": [
    "SELECT idade \n",
    "FROM Paciente P, Exame E\n",
    "WHERE E.idPaciente = P.idPaciente AND E.nomeExame = 'exercice induce angina' AND E.resultado = 1;"
   ]
  },
  {
   "cell_type": "markdown",
   "metadata": {},
   "source": [
    "media de colesterol alto de pessoas que possuem uma doença cardiada\n",
    "---\n"
   ]
  },
  {
   "cell_type": "code",
   "execution_count": 15,
   "metadata": {},
   "outputs": [
    {
     "data": {
      "text/plain": [
       "308.6"
      ]
     },
     "execution_count": 15,
     "metadata": {},
     "output_type": "execute_result"
    }
   ],
   "source": [
    "SELECT AVG(E.resultado) \n",
    "FROM Exame E, Paciente P \n",
    "WHERE P.IdPaciente = E.idPaciente AND E.nomeExame = 'serum cholesterol' AND P.diagnostico = 1;\n"
   ]
  },
  {
   "cell_type": "code",
   "execution_count": null,
   "metadata": {},
   "outputs": [],
   "source": []
  }
 ],
 "metadata": {
  "kernelspec": {
   "display_name": "SQL",
   "language": "SQL",
   "name": "sql"
  },
  "language_info": {
   "codemirror_mode": "sql",
   "file_extension": ".sql",
   "mimetype": "",
   "name": "SQL",
   "nbconverter_exporter": "",
   "version": ""
  },
  "toc": {
   "base_numbering": 1,
   "nav_menu": {},
   "number_sections": false,
   "sideBar": false,
   "skip_h1_title": false,
   "title_cell": "Table of Contents",
   "title_sidebar": "Contents",
   "toc_cell": false,
   "toc_position": {},
   "toc_section_display": false,
   "toc_window_display": false
  }
 },
 "nbformat": 4,
 "nbformat_minor": 2
}
